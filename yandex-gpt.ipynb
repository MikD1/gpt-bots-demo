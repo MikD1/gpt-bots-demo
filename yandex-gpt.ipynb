{
 "cells": [
  {
   "cell_type": "markdown",
   "metadata": {},
   "source": [
    "# Работа с API YandexGPT"
   ]
  },
  {
   "cell_type": "code",
   "execution_count": 9,
   "metadata": {},
   "outputs": [],
   "source": [
    "import requests\n",
    "import json\n",
    "import time"
   ]
  },
  {
   "cell_type": "markdown",
   "metadata": {},
   "source": [
    "Для работы с API YandexGPT необходим API-ключ для сервисного аккаунта Яндекс.Облака с ролями 'ai.languageModels.user' и 'ai.imageGeneration.user'.\n",
    "\n",
    "Подробнее о создании API-ключа: https://yandex.cloud/ru/docs/iam/concepts/authorization/api-key"
   ]
  },
  {
   "cell_type": "code",
   "execution_count": 10,
   "metadata": {},
   "outputs": [],
   "source": [
    "yandex_cloud_catalog = \"\"\n",
    "yandex_api_key = \"\""
   ]
  },
  {
   "cell_type": "markdown",
   "metadata": {},
   "source": [
    "Варианты модели:\n",
    "- yandexgpt-lite\n",
    "- yandexgpt\n",
    "- summarization (для суммарищации текстов)"
   ]
  },
  {
   "cell_type": "code",
   "execution_count": 11,
   "metadata": {},
   "outputs": [],
   "source": [
    "yandex_gpt_model = \"yandexgpt-lite\""
   ]
  },
  {
   "cell_type": "markdown",
   "metadata": {},
   "source": [
    "Структура промта:\n",
    "- Общая инструкция (Ты ...)\n",
    "- Запрос (Напиши ...)\n",
    "- Контекст (Текст)\n",
    "- Формат ответа\n",
    "\n",
    "Параметры генерации\n",
    "- temperature: чем выше значение этого параметра, тем более креативными и случайными будут ответы модели. Принимает значения от 0 до 1"
   ]
  },
  {
   "cell_type": "code",
   "execution_count": 16,
   "metadata": {},
   "outputs": [],
   "source": [
    "temperature = 0.6\n",
    "prompt = \"Ты поэт и автор стихов для детей. Придумай стих про программиста из 4 строк. В ответе напиши только стих.\""
   ]
  },
  {
   "cell_type": "code",
   "execution_count": 21,
   "metadata": {},
   "outputs": [
    {
     "name": "stdout",
     "output_type": "stream",
     "text": [
      "Программист за кодом день-деньской,\n",
      "Ловко управляет он строкой.\n",
      "Строки те – команды для программ,\n",
      "Нужен программист всегда и нам!\n"
     ]
    }
   ],
   "source": [
    "body = {\n",
    "    \"modelUri\": f\"gpt://{yandex_cloud_catalog}/{yandex_gpt_model}\",\n",
    "    \"completionOptions\": {\n",
    "        \"stream\": False,\n",
    "        \"temperature\": temperature,\n",
    "        \"maxTokens\": \"2000\",\n",
    "    },\n",
    "    \"messages\": [{\"role\": \"user\", \"text\": prompt}],\n",
    "}\n",
    "\n",
    "url = \"https://llm.api.cloud.yandex.net/foundationModels/v1/completion\"\n",
    "headers = {\n",
    "    \"Content-Type\": \"application/json\",\n",
    "    \"Authorization\": f\"Api-Key {yandex_api_key}\",\n",
    "}\n",
    "\n",
    "response = requests.post(url, headers=headers, json=body)\n",
    "response_json = json.loads(response.text)\n",
    "answer = response_json[\"result\"][\"alternatives\"][0][\"message\"][\"text\"]\n",
    "print(answer)"
   ]
  },
  {
   "cell_type": "markdown",
   "metadata": {},
   "source": [
    "### Добавления системного промпта"
   ]
  },
  {
   "cell_type": "code",
   "execution_count": 22,
   "metadata": {},
   "outputs": [],
   "source": [
    "system_prompt = \"Исправь ошибки в тексте. В ответе напиши только исправленный текст.\"\n",
    "prompt = \"Сабака гуляет по трове а люди набблюдают\""
   ]
  },
  {
   "cell_type": "code",
   "execution_count": 23,
   "metadata": {},
   "outputs": [
    {
     "name": "stdout",
     "output_type": "stream",
     "text": [
      "Собака гуляет по траве, а люди наблюдают.\n"
     ]
    }
   ],
   "source": [
    "import requests\n",
    "import json\n",
    "\n",
    "body = {\n",
    "    \"modelUri\": f\"gpt://{yandex_cloud_catalog}/{yandex_gpt_model}\",\n",
    "    \"completionOptions\": {\"stream\": False, \"temperature\": 0, \"maxTokens\": \"2000\"},\n",
    "    \"messages\": [\n",
    "        {\"role\": \"system\", \"text\": system_prompt},\n",
    "        {\"role\": \"user\", \"text\": prompt},\n",
    "    ],\n",
    "}\n",
    "\n",
    "url = \"https://llm.api.cloud.yandex.net/foundationModels/v1/completion\"\n",
    "headers = {\n",
    "    \"Content-Type\": \"application/json\",\n",
    "    \"Authorization\": f\"Api-Key {yandex_gpt_api_key}\",\n",
    "    \"x-folder-id\": yandex_cloud_catalog,\n",
    "}\n",
    "\n",
    "response = requests.post(url, headers=headers, json=body)\n",
    "response_json = json.loads(response.text)\n",
    "answer = response_json[\"result\"][\"alternatives\"][0][\"message\"][\"text\"]\n",
    "print(answer)"
   ]
  },
  {
   "cell_type": "markdown",
   "metadata": {},
   "source": [
    "### Работа в асинхронном режиме\n",
    "\n",
    "Выполнение запроса на генерацию текста в асинхронном режиме. Генерация может выполняться несколько секунд. В результате выполнения запроса получаем operation_id, с помощью которого можно получать результат, выполнив отдельный запрос"
   ]
  },
  {
   "cell_type": "code",
   "execution_count": 25,
   "metadata": {},
   "outputs": [
    {
     "name": "stdout",
     "output_type": "stream",
     "text": [
      "{'id': 'd7qff3heaq86t7v8r6e5', 'description': 'Async GPT Completion', 'createdAt': '2024-04-14T04:30:24Z', 'createdBy': 'aje4pspgk8umd6h29st2', 'modifiedAt': '2024-04-14T04:30:24Z', 'done': False, 'metadata': None}\n"
     ]
    }
   ],
   "source": [
    "body = {\n",
    "    \"modelUri\": f\"gpt://{yandex_cloud_catalog}/{yandex_gpt_model}\",\n",
    "    \"completionOptions\": {\"stream\": False, \"temperature\": 0, \"maxTokens\": \"2000\"},\n",
    "    \"messages\": [\n",
    "        {\"role\": \"system\", \"text\": system_prompt},\n",
    "        {\"role\": \"user\", \"text\": prompt},\n",
    "    ],\n",
    "}\n",
    "\n",
    "url = \"https://llm.api.cloud.yandex.net/foundationModels/v1/completionAsync\"\n",
    "headers = {\n",
    "    \"Content-Type\": \"application/json\",\n",
    "    \"Authorization\": f\"Api-Key {yandex_api_key}\",\n",
    "    \"x-folder-id\": yandex_cloud_catalog,\n",
    "}\n",
    "\n",
    "response = requests.post(url, headers=headers, json=body)\n",
    "response_json = json.loads(response.text)\n",
    "print(response_json)\n",
    "operation_id = response_json[\"id\"]"
   ]
  },
  {
   "cell_type": "markdown",
   "metadata": {},
   "source": [
    "Необходимо дождаться выполнения генерации"
   ]
  },
  {
   "cell_type": "code",
   "execution_count": 27,
   "metadata": {},
   "outputs": [
    {
     "name": "stdout",
     "output_type": "stream",
     "text": [
      "Собака гуляет по траве, а люди наблюдают.\n"
     ]
    }
   ],
   "source": [
    "url = f\"https://llm.api.cloud.yandex.net/operations/{operation_id}\"\n",
    "headers = {\"Authorization\": f\"Api-Key {yandex_api_key}\"}\n",
    "\n",
    "while True:\n",
    "    response = requests.get(url, headers=headers)\n",
    "    response_json = json.loads(response.text)\n",
    "    done = response_json[\"done\"]\n",
    "    if done:\n",
    "        break\n",
    "    else:\n",
    "        time.sleep(0.5)\n",
    "\n",
    "answer = response_json[\"response\"][\"alternatives\"][0][\"message\"][\"text\"]\n",
    "print(answer)"
   ]
  }
 ],
 "metadata": {
  "kernelspec": {
   "display_name": "Python 3",
   "language": "python",
   "name": "python3"
  },
  "language_info": {
   "codemirror_mode": {
    "name": "ipython",
    "version": 3
   },
   "file_extension": ".py",
   "mimetype": "text/x-python",
   "name": "python",
   "nbconvert_exporter": "python",
   "pygments_lexer": "ipython3",
   "version": "3.12.2"
  }
 },
 "nbformat": 4,
 "nbformat_minor": 2
}
