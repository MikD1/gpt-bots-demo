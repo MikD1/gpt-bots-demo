{
 "cells": [
  {
   "cell_type": "markdown",
   "metadata": {},
   "source": [
    "# Работа с API YandexGPT"
   ]
  },
  {
   "cell_type": "code",
   "execution_count": 80,
   "metadata": {},
   "outputs": [],
   "source": [
    "import requests\n",
    "import json\n",
    "import time"
   ]
  },
  {
   "cell_type": "markdown",
   "metadata": {},
   "source": [
    "Для работы с API YandexGPT необходим идентификатор каталога и API-ключ для сервисного аккаунта Яндекс.Облака с ролью 'ai.languageModels.user'.\n",
    "\n",
    "Подробнее о создании API-ключа: https://yandex.cloud/ru/docs/iam/concepts/authorization/api-key"
   ]
  },
  {
   "cell_type": "code",
   "execution_count": 81,
   "metadata": {},
   "outputs": [],
   "source": [
    "yandex_cloud_catalog = \"\"\n",
    "yandex_api_key = \"\""
   ]
  },
  {
   "cell_type": "markdown",
   "metadata": {},
   "source": [
    "Варианты модели:\n",
    "- yandexgpt-lite\n",
    "- yandexgpt\n",
    "- summarization (для суммарищации текстов)"
   ]
  },
  {
   "cell_type": "code",
   "execution_count": 82,
   "metadata": {},
   "outputs": [],
   "source": [
    "yandex_gpt_model = \"yandexgpt-lite\""
   ]
  },
  {
   "cell_type": "markdown",
   "metadata": {},
   "source": [
    "Структура промта:\n",
    "- Общая инструкция (Ты ...)\n",
    "- Запрос (Напиши ...)\n",
    "- Контекст (Текст)\n",
    "- Формат ответа"
   ]
  },
  {
   "cell_type": "code",
   "execution_count": 83,
   "metadata": {},
   "outputs": [],
   "source": [
    "prompt = \"Ты поэт и автор стихов для детей. Придумай стих про программиста из 4 строк. В ответе напиши только стих.\""
   ]
  },
  {
   "cell_type": "markdown",
   "metadata": {},
   "source": [
    "Параметры генерации\n",
    "- temperature: чем выше значение этого параметра, тем более креативными и случайными будут ответы модели. Принимает значения от 0 до 1"
   ]
  },
  {
   "cell_type": "code",
   "execution_count": 84,
   "metadata": {},
   "outputs": [],
   "source": [
    "temperature = 0.6"
   ]
  },
  {
   "cell_type": "markdown",
   "metadata": {},
   "source": [
    "Для выполнения запроса необходимо сгенерировать body, указать url и заголовки"
   ]
  },
  {
   "cell_type": "code",
   "execution_count": 85,
   "metadata": {},
   "outputs": [],
   "source": [
    "body = {\n",
    "    \"modelUri\": f\"gpt://{yandex_cloud_catalog}/{yandex_gpt_model}\",\n",
    "    \"completionOptions\": {\n",
    "        \"stream\": False,\n",
    "        \"temperature\": temperature,\n",
    "        \"maxTokens\": \"2000\",\n",
    "    },\n",
    "    \"messages\": [{\"role\": \"user\", \"text\": prompt}],\n",
    "}\n",
    "\n",
    "url = \"https://llm.api.cloud.yandex.net/foundationModels/v1/completion\"\n",
    "headers = {\n",
    "    \"Content-Type\": \"application/json\",\n",
    "    \"Authorization\": f\"Api-Key {yandex_api_key}\",\n",
    "}"
   ]
  },
  {
   "cell_type": "markdown",
   "metadata": {},
   "source": [
    "Ответ возвращается в JSON-формате"
   ]
  },
  {
   "cell_type": "code",
   "execution_count": 86,
   "metadata": {},
   "outputs": [
    {
     "name": "stdout",
     "output_type": "stream",
     "text": [
      "{'result': {'alternatives': [{'message': {'role': 'assistant', 'text': 'Программист всегда в работе,  \\nЦелый день сидит в заботе.  \\nЗнает он язык машин —  \\nПишет код для всех вершин.'}, 'status': 'ALTERNATIVE_STATUS_FINAL'}], 'usage': {'inputTextTokens': '39', 'completionTokens': '33', 'totalTokens': '72'}, 'modelVersion': '18.01.2024'}}\n",
      "Программист всегда в работе,  \n",
      "Целый день сидит в заботе.  \n",
      "Знает он язык машин —  \n",
      "Пишет код для всех вершин.\n"
     ]
    }
   ],
   "source": [
    "response = requests.post(url, headers=headers, json=body)\n",
    "response_json = json.loads(response.text)\n",
    "print(response_json)\n",
    "\n",
    "answer = response_json[\"result\"][\"alternatives\"][0][\"message\"][\"text\"]\n",
    "print(answer)"
   ]
  },
  {
   "cell_type": "markdown",
   "metadata": {},
   "source": [
    "### Добавления системного промпта"
   ]
  },
  {
   "cell_type": "code",
   "execution_count": 87,
   "metadata": {},
   "outputs": [],
   "source": [
    "system_prompt = \"Исправь ошибки в тексте. В ответе напиши только исправленный текст.\"\n",
    "prompt = input()"
   ]
  },
  {
   "cell_type": "code",
   "execution_count": 88,
   "metadata": {},
   "outputs": [
    {
     "name": "stdout",
     "output_type": "stream",
     "text": [
      "{'result': {'alternatives': [{'message': {'role': 'assistant', 'text': 'Собака гуляет на поводке, а люди отдыхают.'}, 'status': 'ALTERNATIVE_STATUS_FINAL'}], 'usage': {'inputTextTokens': '40', 'completionTokens': '10', 'totalTokens': '50'}, 'modelVersion': '18.01.2024'}}\n",
      "Собака гуляет на поводке, а люди отдыхают.\n"
     ]
    }
   ],
   "source": [
    "body = {\n",
    "    \"modelUri\": f\"gpt://{yandex_cloud_catalog}/{yandex_gpt_model}\",\n",
    "    \"completionOptions\": {\"stream\": False, \"temperature\": 0, \"maxTokens\": \"2000\"},\n",
    "    \"messages\": [\n",
    "        {\"role\": \"system\", \"text\": system_prompt},\n",
    "        {\"role\": \"user\", \"text\": prompt},\n",
    "    ],\n",
    "}\n",
    "\n",
    "url = \"https://llm.api.cloud.yandex.net/foundationModels/v1/completion\"\n",
    "headers = {\n",
    "    \"Content-Type\": \"application/json\",\n",
    "    \"Authorization\": f\"Api-Key {yandex_api_key}\",\n",
    "    \"x-folder-id\": yandex_cloud_catalog,\n",
    "}\n",
    "\n",
    "response = requests.post(url, headers=headers, json=body)\n",
    "response_json = json.loads(response.text)\n",
    "print(response_json)\n",
    "\n",
    "answer = response_json[\"result\"][\"alternatives\"][0][\"message\"][\"text\"]\n",
    "print(answer)"
   ]
  },
  {
   "cell_type": "markdown",
   "metadata": {},
   "source": [
    "### Документация\n",
    "\n",
    "https://yandex.cloud/ru/docs/foundation-models/operations/yandexgpt/create-prompt"
   ]
  }
 ],
 "metadata": {
  "kernelspec": {
   "display_name": "Python 3",
   "language": "python",
   "name": "python3"
  },
  "language_info": {
   "codemirror_mode": {
    "name": "ipython",
    "version": 3
   },
   "file_extension": ".py",
   "mimetype": "text/x-python",
   "name": "python",
   "nbconvert_exporter": "python",
   "pygments_lexer": "ipython3",
   "version": "3.12.2"
  }
 },
 "nbformat": 4,
 "nbformat_minor": 2
}
