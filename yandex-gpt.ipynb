{
 "cells": [
  {
   "cell_type": "markdown",
   "metadata": {},
   "source": [
    "# Работа с API YandexGPT"
   ]
  },
  {
   "cell_type": "code",
   "execution_count": 17,
   "metadata": {},
   "outputs": [],
   "source": [
    "yandex_cloud_catalog = \"\"\n",
    "yandex_gpt_api_key = \"\""
   ]
  },
  {
   "cell_type": "markdown",
   "metadata": {},
   "source": [
    "Варианты модели:\n",
    "- yandexgpt-lite\n",
    "- yandexgpt\n",
    "- summarization (для суммарищации текстов)"
   ]
  },
  {
   "cell_type": "code",
   "execution_count": 18,
   "metadata": {},
   "outputs": [],
   "source": [
    "yandex_gpt_model = \"yandexgpt-lite\""
   ]
  },
  {
   "cell_type": "markdown",
   "metadata": {},
   "source": [
    "Структура промта:\n",
    "- Общая инструкция (Ты ...)\n",
    "- Запрос (Напиши ...)\n",
    "- Контекст (Текст)\n",
    "- Формат ответа"
   ]
  },
  {
   "cell_type": "code",
   "execution_count": 32,
   "metadata": {},
   "outputs": [],
   "source": [
    "prompt = \"Ты поэт и автор стихов для детей. Придумай стих про программиста из 4 строк. В ответе напиши только стих.\""
   ]
  },
  {
   "cell_type": "code",
   "execution_count": 33,
   "metadata": {},
   "outputs": [
    {
     "name": "stdout",
     "output_type": "stream",
     "text": [
      "Программист за кодом дни и ночи,\n",
      "Знает этот код от А до Я!\n",
      "Он программы пишет, между прочим,\n",
      "Чтоб облегчить труд день ото дня.\n"
     ]
    }
   ],
   "source": [
    "import requests\n",
    "import json\n",
    "\n",
    "body = {\n",
    "    \"modelUri\": f\"gpt://{yandex_cloud_catalog}/{yandex_gpt_model}\",\n",
    "    \"completionOptions\": {\"stream\": False, \"temperature\": 0.6, \"maxTokens\": \"2000\"},\n",
    "    \"messages\": [{\"role\": \"user\", \"text\": prompt}],\n",
    "}\n",
    "\n",
    "url = \"https://llm.api.cloud.yandex.net/foundationModels/v1/completion\"\n",
    "headers = {\n",
    "    \"Content-Type\": \"application/json\",\n",
    "    \"Authorization\": f\"Api-Key {yandex_gpt_api_key}\",\n",
    "    \"x-folder-id\": yandex_cloud_catalog,\n",
    "}\n",
    "\n",
    "response = requests.post(url, headers=headers, json=body)\n",
    "response_json = json.loads(response.text)\n",
    "answer = response_json[\"result\"][\"alternatives\"][0][\"message\"][\"text\"]\n",
    "print(answer)"
   ]
  },
  {
   "cell_type": "markdown",
   "metadata": {},
   "source": [
    "### Добавления системного промпта"
   ]
  },
  {
   "cell_type": "code",
   "execution_count": 21,
   "metadata": {},
   "outputs": [],
   "source": [
    "system_prompt = \"Исправь ошибки в тексте. В ответе напиши только исправленный текст.\"\n",
    "prompt = \"Сабака гуляет по трове а люди набблюдают\""
   ]
  },
  {
   "cell_type": "code",
   "execution_count": 28,
   "metadata": {},
   "outputs": [
    {
     "name": "stdout",
     "output_type": "stream",
     "text": [
      "Собака гуляет по траве, а люди наблюдают.\n"
     ]
    }
   ],
   "source": [
    "import requests\n",
    "import json\n",
    "\n",
    "body = {\n",
    "    \"modelUri\": f\"gpt://{yandex_cloud_catalog}/{yandex_gpt_model}\",\n",
    "    \"completionOptions\": {\"stream\": False, \"temperature\": 0.6, \"maxTokens\": \"2000\"},\n",
    "    \"messages\": [\n",
    "        {\"role\": \"system\", \"text\": system_prompt},\n",
    "        {\"role\": \"user\", \"text\": prompt},\n",
    "    ],\n",
    "}\n",
    "\n",
    "url = \"https://llm.api.cloud.yandex.net/foundationModels/v1/completion\"\n",
    "headers = {\n",
    "    \"Content-Type\": \"application/json\",\n",
    "    \"Authorization\": f\"Api-Key {yandex_gpt_api_key}\",\n",
    "    \"x-folder-id\": yandex_cloud_catalog,\n",
    "}\n",
    "\n",
    "response = requests.post(url, headers=headers, json=body)\n",
    "response_json = json.loads(response.text)\n",
    "answer = response_json[\"result\"][\"alternatives\"][0][\"message\"][\"text\"]\n",
    "print(answer)"
   ]
  },
  {
   "cell_type": "markdown",
   "metadata": {},
   "source": [
    "### Работа в асинхронном режиме"
   ]
  },
  {
   "cell_type": "code",
   "execution_count": 29,
   "metadata": {},
   "outputs": [
    {
     "name": "stdout",
     "output_type": "stream",
     "text": [
      "Собака гуляет по траве, а люди наблюдают.\n"
     ]
    }
   ],
   "source": [
    "import requests\n",
    "import json\n",
    "import time\n",
    "\n",
    "body = {\n",
    "    \"modelUri\": f\"gpt://{yandex_cloud_catalog}/{yandex_gpt_model}\",\n",
    "    \"completionOptions\": {\"stream\": False, \"temperature\": 0.6, \"maxTokens\": \"2000\"},\n",
    "    \"messages\": [\n",
    "        {\"role\": \"system\", \"text\": system_prompt},\n",
    "        {\"role\": \"user\", \"text\": prompt},\n",
    "    ],\n",
    "}\n",
    "\n",
    "url = \"https://llm.api.cloud.yandex.net/foundationModels/v1/completionAsync\"\n",
    "headers = {\n",
    "    \"Content-Type\": \"application/json\",\n",
    "    \"Authorization\": f\"Api-Key {yandex_gpt_api_key}\",\n",
    "    \"x-folder-id\": yandex_cloud_catalog,\n",
    "}\n",
    "\n",
    "response = requests.post(url, headers=headers, json=body)\n",
    "response_json = json.loads(response.text)\n",
    "operation_id = response_json[\"id\"]\n",
    "\n",
    "url = f\"https://llm.api.cloud.yandex.net/operations/{operation_id}\"\n",
    "headers = {\"Authorization\": f\"Api-Key {yandex_gpt_api_key}\"}\n",
    "\n",
    "done = False\n",
    "while not done:\n",
    "    response = requests.get(url, headers=headers)\n",
    "    response_json = json.loads(response.text)\n",
    "    done = response_json[\"done\"]\n",
    "    time.sleep(0.5)\n",
    "\n",
    "answer = response_json[\"response\"][\"alternatives\"][0][\"message\"][\"text\"]\n",
    "print(answer)"
   ]
  }
 ],
 "metadata": {
  "kernelspec": {
   "display_name": "Python 3",
   "language": "python",
   "name": "python3"
  },
  "language_info": {
   "codemirror_mode": {
    "name": "ipython",
    "version": 3
   },
   "file_extension": ".py",
   "mimetype": "text/x-python",
   "name": "python",
   "nbconvert_exporter": "python",
   "pygments_lexer": "ipython3",
   "version": "3.12.2"
  }
 },
 "nbformat": 4,
 "nbformat_minor": 2
}
